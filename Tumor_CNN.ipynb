{
  "nbformat": 4,
  "nbformat_minor": 0,
  "metadata": {
    "colab": {
      "name": "Tumor-CNN.ipynb",
      "provenance": [],
      "collapsed_sections": []
    },
    "kernelspec": {
      "name": "python3",
      "display_name": "Python 3"
    },
    "language_info": {
      "name": "python"
    },
    "accelerator": "GPU"
  },
  "cells": [
    {
      "cell_type": "markdown",
      "metadata": {
        "id": "3wfW5jgN9J5u"
      },
      "source": [
        "## Setup Environment"
      ]
    },
    {
      "cell_type": "code",
      "metadata": {
        "colab": {
          "base_uri": "https://localhost:8080/"
        },
        "id": "pez4W07j893b",
        "outputId": "0488194c-ce00-4b76-da78-bf52be2960ec"
      },
      "source": [
        "! git clone https://github.com/srivarshan-s/CNN-Transfer-Learning.git\n",
        "% cd CNN-Transfer-Learning"
      ],
      "execution_count": 1,
      "outputs": [
        {
          "output_type": "stream",
          "name": "stdout",
          "text": [
            "Cloning into 'CNN-Transfer-Learning'...\n",
            "remote: Enumerating objects: 25907, done.\u001b[K\n",
            "remote: Counting objects: 100% (25907/25907), done.\u001b[K\n",
            "remote: Compressing objects: 100% (25903/25903), done.\u001b[K\n",
            "remote: Total 25907 (delta 3), reused 25903 (delta 2), pack-reused 0\n",
            "Receiving objects: 100% (25907/25907), 547.16 MiB | 32.59 MiB/s, done.\n",
            "Resolving deltas: 100% (3/3), done.\n",
            "Checking out files: 100% (26197/26197), done.\n"
          ]
        }
      ]
    },
    {
      "cell_type": "markdown",
      "metadata": {
        "id": "4bc_ssL49wyv"
      },
      "source": [
        "## Importing Libraries"
      ]
    },
    {
      "cell_type": "code",
      "metadata": {
        "id": "XOs-DkLr9a4H"
      },
      "source": [
        "import matplotlib.pyplot as plt\n",
        "\n",
        "import numpy as np\n",
        "\n",
        "import pandas as pd\n",
        "\n",
        "from tensorflow.keras.preprocessing.image import ImageDataGenerator\n",
        "from tensorflow.keras.models import Sequential\n",
        "from tensorflow.keras.layers import Conv2D, MaxPooling2D, Flatten\n",
        "from tensorflow.keras.layers import Dense, Dropout, InputLayer\n",
        "from tensorflow.keras.optimizers import RMSprop\n",
        "from tensorflow.keras.applications import vgg16\n",
        "from tensorflow.keras.models import Model"
      ],
      "execution_count": 70,
      "outputs": []
    },
    {
      "cell_type": "markdown",
      "metadata": {
        "id": "T5EMKHTp96-v"
      },
      "source": [
        "## Loading Data"
      ]
    },
    {
      "cell_type": "code",
      "metadata": {
        "id": "qgb9w8ru-Cuf"
      },
      "source": [
        "train_dir = \"Tumor Dataset/Train/\"\n",
        "val_dir = \"Tumor Dataset/Test/\""
      ],
      "execution_count": 3,
      "outputs": []
    },
    {
      "cell_type": "code",
      "metadata": {
        "id": "AUGIuqVI-PTm"
      },
      "source": [
        "train_datagen = ImageDataGenerator(rescale=1./255)\n",
        "val_datagen = ImageDataGenerator(rescale=1./255)"
      ],
      "execution_count": 6,
      "outputs": []
    },
    {
      "cell_type": "code",
      "metadata": {
        "colab": {
          "base_uri": "https://localhost:8080/"
        },
        "id": "0-aqWtDR-P4S",
        "outputId": "4e6b74ef-5308-47ee-8b19-9f038d8731c2"
      },
      "source": [
        "train_gen = train_datagen.flow_from_directory(\n",
        "    train_dir, target_size=(150, 150), batch_size=30, class_mode='categorical')\n",
        "\n",
        "val_gen = val_datagen.flow_from_directory(\n",
        "    val_dir, target_size=(150, 150), batch_size=30, class_mode='categorical')"
      ],
      "execution_count": 7,
      "outputs": [
        {
          "output_type": "stream",
          "name": "stdout",
          "text": [
            "Found 1050 images belonging to 3 classes.\n",
            "Found 144 images belonging to 3 classes.\n"
          ]
        }
      ]
    },
    {
      "cell_type": "code",
      "metadata": {
        "id": "hj8i9G4x_W6L"
      },
      "source": [
        "input_shape = (150, 150, 3)\n",
        "batch_size = 30\n",
        "epochs = 5"
      ],
      "execution_count": 79,
      "outputs": []
    },
    {
      "cell_type": "markdown",
      "metadata": {
        "id": "JTD1c3Xe-vhW"
      },
      "source": [
        "## Simple CNN Model"
      ]
    },
    {
      "cell_type": "code",
      "metadata": {
        "colab": {
          "base_uri": "https://localhost:8080/"
        },
        "id": "00ISJ-Fz-kig",
        "outputId": "86140e54-74f8-4e41-ac7e-11d475a3ac8b"
      },
      "source": [
        "model = Sequential()\n",
        "\n",
        "model.add(Conv2D(16, kernel_size=(3, 3), activation='relu', \n",
        "                 input_shape=input_shape))\n",
        "model.add(MaxPooling2D(pool_size=(2, 2)))\n",
        "\n",
        "model.add(Conv2D(64, kernel_size=(3, 3), activation='relu'))\n",
        "model.add(MaxPooling2D(pool_size=(2, 2)))\n",
        "\n",
        "model.add(Conv2D(128, kernel_size=(3, 3), activation='relu'))\n",
        "model.add(MaxPooling2D(pool_size=(2, 2)))\n",
        "\n",
        "model.add(Flatten())\n",
        "model.add(Dense(512, activation='relu'))\n",
        "model.add(Dense(3, activation='sigmoid'))\n",
        "\n",
        "\n",
        "model.compile(loss='categorical_crossentropy',\n",
        "              optimizer=RMSprop(),\n",
        "              metrics=['accuracy'])\n",
        "\n",
        "model.summary()"
      ],
      "execution_count": 28,
      "outputs": [
        {
          "output_type": "stream",
          "name": "stdout",
          "text": [
            "Model: \"sequential_6\"\n",
            "_________________________________________________________________\n",
            "Layer (type)                 Output Shape              Param #   \n",
            "=================================================================\n",
            "conv2d_10 (Conv2D)           (None, 148, 148, 16)      448       \n",
            "_________________________________________________________________\n",
            "max_pooling2d_9 (MaxPooling2 (None, 74, 74, 16)        0         \n",
            "_________________________________________________________________\n",
            "conv2d_11 (Conv2D)           (None, 72, 72, 64)        9280      \n",
            "_________________________________________________________________\n",
            "max_pooling2d_10 (MaxPooling (None, 36, 36, 64)        0         \n",
            "_________________________________________________________________\n",
            "conv2d_12 (Conv2D)           (None, 34, 34, 128)       73856     \n",
            "_________________________________________________________________\n",
            "max_pooling2d_11 (MaxPooling (None, 17, 17, 128)       0         \n",
            "_________________________________________________________________\n",
            "flatten_3 (Flatten)          (None, 36992)             0         \n",
            "_________________________________________________________________\n",
            "dense_6 (Dense)              (None, 512)               18940416  \n",
            "_________________________________________________________________\n",
            "dense_7 (Dense)              (None, 3)                 1539      \n",
            "=================================================================\n",
            "Total params: 19,025,539\n",
            "Trainable params: 19,025,539\n",
            "Non-trainable params: 0\n",
            "_________________________________________________________________\n"
          ]
        }
      ]
    },
    {
      "cell_type": "code",
      "metadata": {
        "colab": {
          "base_uri": "https://localhost:8080/"
        },
        "id": "zz-5vqDi-y16",
        "outputId": "cb1f09c7-ef11-470e-a284-6929a5ffa3b6"
      },
      "source": [
        "history = model.fit(\n",
        "    train_gen, \n",
        "    validation_data=val_gen,\n",
        "    batch_size=batch_size,\n",
        "    epochs=epochs,\n",
        "    verbose=1\n",
        ")"
      ],
      "execution_count": 29,
      "outputs": [
        {
          "output_type": "stream",
          "name": "stdout",
          "text": [
            "Epoch 1/5\n",
            "35/35 [==============================] - 3s 65ms/step - loss: 2.4848 - accuracy: 0.6029 - val_loss: 1.3672 - val_accuracy: 0.4444\n",
            "Epoch 2/5\n",
            "35/35 [==============================] - 2s 59ms/step - loss: 0.3779 - accuracy: 0.8724 - val_loss: 1.7922 - val_accuracy: 0.5556\n",
            "Epoch 3/5\n",
            "35/35 [==============================] - 2s 58ms/step - loss: 0.0786 - accuracy: 0.9733 - val_loss: 2.7334 - val_accuracy: 0.5972\n",
            "Epoch 4/5\n",
            "35/35 [==============================] - 2s 59ms/step - loss: 0.0131 - accuracy: 0.9952 - val_loss: 3.5881 - val_accuracy: 0.5903\n",
            "Epoch 5/5\n",
            "35/35 [==============================] - 2s 58ms/step - loss: 1.8185e-04 - accuracy: 1.0000 - val_loss: 4.2167 - val_accuracy: 0.6111\n"
          ]
        }
      ]
    },
    {
      "cell_type": "code",
      "metadata": {
        "colab": {
          "base_uri": "https://localhost:8080/",
          "height": 308
        },
        "id": "Tx6C4YRpAX-X",
        "outputId": "06bd5e1d-17eb-4a3a-a660-9299d85dd118"
      },
      "source": [
        "f, (ax1, ax2) = plt.subplots(1, 2, figsize=(12, 4))\n",
        "t = f.suptitle('Basic CNN Performance', fontsize=12)\n",
        "f.subplots_adjust(top=0.85, wspace=0.3)\n",
        "\n",
        "epoch_list = list(range(1,6))\n",
        "ax1.plot(epoch_list, history.history['accuracy'], label='Train Accuracy')\n",
        "ax1.plot(epoch_list, history.history['val_accuracy'], label='Validation Accuracy')\n",
        "ax1.set_xticks(np.arange(1, 6, 1))\n",
        "ax1.set_ylabel('Accuracy Value')\n",
        "ax1.set_xlabel('Epoch')\n",
        "ax1.set_title('Accuracy')\n",
        "l1 = ax1.legend(loc=\"best\")\n",
        "\n",
        "ax2.plot(epoch_list, history.history['loss'], label='Train Loss')\n",
        "ax2.plot(epoch_list, history.history['val_loss'], label='Validation Loss')\n",
        "ax2.set_xticks(np.arange(1, 6, 1))\n",
        "ax2.set_ylabel('Loss Value')\n",
        "ax2.set_xlabel('Epoch')\n",
        "ax2.set_title('Loss')\n",
        "l2 = ax2.legend(loc=\"best\")"
      ],
      "execution_count": 37,
      "outputs": [
        {
          "output_type": "display_data",
          "data": {
            "image/png": "[encoded data removed]",
            "text/plain": [
              "<Figure size 864x288 with 2 Axes>"
            ]
          },
          "metadata": {
            "needs_background": "light"
          }
        }
      ]
    },
    {
      "cell_type": "markdown",
      "metadata": {
        "id": "1xxnQVL7BNxD"
      },
      "source": [
        "## CNN Model with Regularization"
      ]
    },
    {
      "cell_type": "code",
      "metadata": {
        "id": "0c4OmYYsA0dw"
      },
      "source": [
        "model = Sequential()\n",
        "\n",
        "model.add(Conv2D(16, kernel_size=(3, 3), activation='relu', \n",
        "                 input_shape=input_shape))\n",
        "model.add(MaxPooling2D(pool_size=(2, 2)))\n",
        "\n",
        "model.add(Conv2D(64, kernel_size=(3, 3), activation='relu'))\n",
        "model.add(MaxPooling2D(pool_size=(2, 2)))\n",
        "\n",
        "model.add(Conv2D(128, kernel_size=(3, 3), activation='relu'))\n",
        "model.add(MaxPooling2D(pool_size=(2, 2)))\n",
        "\n",
        "model.add(Conv2D(128, kernel_size=(3, 3), activation='relu'))\n",
        "model.add(MaxPooling2D(pool_size=(2, 2)))\n",
        "\n",
        "model.add(Flatten())\n",
        "model.add(Dense(512, activation='relu'))\n",
        "model.add(Dropout(0.3))\n",
        "model.add(Dense(512, activation='relu'))\n",
        "model.add(Dropout(0.3))\n",
        "model.add(Dense(3, activation='sigmoid'))\n",
        "\n",
        "\n",
        "model.compile(loss='categorical_crossentropy',\n",
        "              optimizer=RMSprop(),\n",
        "              metrics=['accuracy'])"
      ],
      "execution_count": 47,
      "outputs": []
    },
    {
      "cell_type": "code",
      "metadata": {
        "colab": {
          "base_uri": "https://localhost:8080/"
        },
        "id": "dWJA7T-1BWpz",
        "outputId": "13d325ff-a4b3-4c69-cf58-32271c96bebd"
      },
      "source": [
        "history = model.fit(\n",
        "    train_gen, \n",
        "    validation_data=val_gen,\n",
        "    batch_size=batch_size,\n",
        "    epochs=8,\n",
        "    verbose=1\n",
        ")"
      ],
      "execution_count": 48,
      "outputs": [
        {
          "output_type": "stream",
          "name": "stdout",
          "text": [
            "Epoch 1/8\n",
            "35/35 [==============================] - 3s 55ms/step - loss: 1.3569 - accuracy: 0.4533 - val_loss: 1.0617 - val_accuracy: 0.5625\n",
            "Epoch 2/8\n",
            "35/35 [==============================] - 2s 50ms/step - loss: 0.7997 - accuracy: 0.6305 - val_loss: 1.3453 - val_accuracy: 0.4722\n",
            "Epoch 3/8\n",
            "35/35 [==============================] - 2s 49ms/step - loss: 0.4476 - accuracy: 0.8276 - val_loss: 2.1082 - val_accuracy: 0.4236\n",
            "Epoch 4/8\n",
            "35/35 [==============================] - 2s 50ms/step - loss: 0.2889 - accuracy: 0.8895 - val_loss: 2.1335 - val_accuracy: 0.5486\n",
            "Epoch 5/8\n",
            "35/35 [==============================] - 2s 48ms/step - loss: 0.1435 - accuracy: 0.9600 - val_loss: 2.3532 - val_accuracy: 0.5625\n",
            "Epoch 6/8\n",
            "35/35 [==============================] - 2s 49ms/step - loss: 0.0748 - accuracy: 0.9771 - val_loss: 3.4283 - val_accuracy: 0.5833\n",
            "Epoch 7/8\n",
            "35/35 [==============================] - 2s 49ms/step - loss: 0.0716 - accuracy: 0.9810 - val_loss: 4.0310 - val_accuracy: 0.5417\n",
            "Epoch 8/8\n",
            "35/35 [==============================] - 2s 50ms/step - loss: 0.1000 - accuracy: 0.9714 - val_loss: 3.4347 - val_accuracy: 0.6042\n"
          ]
        }
      ]
    },
    {
      "cell_type": "code",
      "metadata": {
        "colab": {
          "base_uri": "https://localhost:8080/",
          "height": 308
        },
        "id": "ic2w_PoOBe_U",
        "outputId": "0a2be2d6-8c4e-45a3-9b2f-13e0f082d71c"
      },
      "source": [
        "f, (ax1, ax2) = plt.subplots(1, 2, figsize=(12, 4))\n",
        "t = f.suptitle('Regularized CNN Performance', fontsize=12)\n",
        "f.subplots_adjust(top=0.85, wspace=0.3)\n",
        "\n",
        "epoch_list = list(range(1,9))\n",
        "ax1.plot(epoch_list, history.history['accuracy'], label='Train Accuracy')\n",
        "ax1.plot(epoch_list, history.history['val_accuracy'], label='Validation Accuracy')\n",
        "ax1.set_xticks(np.arange(1, 9, 1))\n",
        "ax1.set_ylabel('Accuracy Value')\n",
        "ax1.set_xlabel('Epoch')\n",
        "ax1.set_title('Accuracy')\n",
        "l1 = ax1.legend(loc=\"best\")\n",
        "\n",
        "ax2.plot(epoch_list, history.history['loss'], label='Train Loss')\n",
        "ax2.plot(epoch_list, history.history['val_loss'], label='Validation Loss')\n",
        "ax2.set_xticks(np.arange(1, 9, 1))\n",
        "ax2.set_ylabel('Loss Value')\n",
        "ax2.set_xlabel('Epoch')\n",
        "ax2.set_title('Loss')\n",
        "l2 = ax2.legend(loc=\"best\")"
      ],
      "execution_count": 49,
      "outputs": [
        {
          "output_type": "display_data",
          "data": {
            "image/png": "[encoded data removed]",
            "text/plain": [
              "<Figure size 864x288 with 2 Axes>"
            ]
          },
          "metadata": {
            "needs_background": "light"
          }
        }
      ]
    },
    {
      "cell_type": "markdown",
      "metadata": {
        "id": "Mjl2VySfCEKd"
      },
      "source": [
        "## CNN Model with Image Augmentation"
      ]
    },
    {
      "cell_type": "code",
      "metadata": {
        "id": "iy3yPzxJCBUd"
      },
      "source": [
        "train_datagen = ImageDataGenerator(\n",
        "    rescale=1./255, zoom_range=0.3, rotation_range=50,\n",
        "    width_shift_range=0.2, height_shift_range=0.2, shear_range=0.2, \n",
        "    horizontal_flip=True, fill_mode='nearest'\n",
        ")\n",
        "\n",
        "val_datagen = ImageDataGenerator(rescale=1./255)"
      ],
      "execution_count": 50,
      "outputs": []
    },
    {
      "cell_type": "code",
      "metadata": {
        "colab": {
          "base_uri": "https://localhost:8080/"
        },
        "id": "bA31bT8uCLFy",
        "outputId": "b14f7107-a328-4826-99fc-51f3142b7dd8"
      },
      "source": [
        "train_gen = train_datagen.flow_from_directory(\n",
        "    train_dir, target_size=(150, 150), batch_size=30, class_mode='categorical')\n",
        "\n",
        "val_gen = val_datagen.flow_from_directory(\n",
        "    val_dir, target_size=(150, 150), batch_size=30, class_mode='categorical')"
      ],
      "execution_count": 51,
      "outputs": [
        {
          "output_type": "stream",
          "name": "stdout",
          "text": [
            "Found 1050 images belonging to 3 classes.\n",
            "Found 144 images belonging to 3 classes.\n"
          ]
        }
      ]
    },
    {
      "cell_type": "code",
      "metadata": {
        "id": "03-VGtkhCORV"
      },
      "source": [
        "model = Sequential()\n",
        "\n",
        "model.add(Conv2D(16, kernel_size=(3, 3), activation='relu', \n",
        "                 input_shape=input_shape))\n",
        "model.add(MaxPooling2D(pool_size=(2, 2)))\n",
        "\n",
        "model.add(Conv2D(64, kernel_size=(3, 3), activation='relu'))\n",
        "model.add(MaxPooling2D(pool_size=(2, 2)))\n",
        "\n",
        "model.add(Conv2D(128, kernel_size=(3, 3), activation='relu'))\n",
        "model.add(MaxPooling2D(pool_size=(2, 2)))\n",
        "\n",
        "model.add(Conv2D(128, kernel_size=(3, 3), activation='relu'))\n",
        "model.add(MaxPooling2D(pool_size=(2, 2)))\n",
        "\n",
        "model.add(Flatten())\n",
        "model.add(Dense(512, activation='relu'))\n",
        "model.add(Dropout(0.3))\n",
        "model.add(Dense(512, activation='relu'))\n",
        "model.add(Dropout(0.3))\n",
        "model.add(Dense(3, activation='sigmoid'))\n",
        "\n",
        "model.compile(loss='categorical_crossentropy',\n",
        "              optimizer=RMSprop(learning_rate=1e-4),\n",
        "              metrics=['accuracy'])"
      ],
      "execution_count": 54,
      "outputs": []
    },
    {
      "cell_type": "code",
      "metadata": {
        "colab": {
          "base_uri": "https://localhost:8080/"
        },
        "id": "h1JK2t1MCZ6Q",
        "outputId": "e9fa0e74-97cd-4286-f896-fb498ee557f6"
      },
      "source": [
        "history = model.fit(\n",
        "    train_gen, \n",
        "    validation_data=val_gen,\n",
        "    batch_size=batch_size,\n",
        "    epochs=100,\n",
        "    verbose=1\n",
        ")"
      ],
      "execution_count": 55,
      "outputs": [
        {
          "output_type": "stream",
          "name": "stdout",
          "text": [
            "Epoch 1/100\n",
            "35/35 [==============================] - 8s 206ms/step - loss: 1.1066 - accuracy: 0.3295 - val_loss: 1.0753 - val_accuracy: 0.4514\n",
            "Epoch 2/100\n",
            "35/35 [==============================] - 7s 203ms/step - loss: 1.1008 - accuracy: 0.3295 - val_loss: 1.0689 - val_accuracy: 0.5556\n",
            "Epoch 3/100\n",
            "35/35 [==============================] - 7s 199ms/step - loss: 1.0906 - accuracy: 0.3629 - val_loss: 1.0429 - val_accuracy: 0.3958\n",
            "Epoch 4/100\n",
            "35/35 [==============================] - 7s 199ms/step - loss: 1.0843 - accuracy: 0.3962 - val_loss: 1.0101 - val_accuracy: 0.3819\n",
            "Epoch 5/100\n",
            "35/35 [==============================] - 7s 199ms/step - loss: 1.0744 - accuracy: 0.4029 - val_loss: 1.0083 - val_accuracy: 0.6389\n",
            "Epoch 6/100\n",
            "35/35 [==============================] - 7s 200ms/step - loss: 1.0736 - accuracy: 0.3800 - val_loss: 0.9947 - val_accuracy: 0.3264\n",
            "Epoch 7/100\n",
            "35/35 [==============================] - 7s 199ms/step - loss: 1.0598 - accuracy: 0.4086 - val_loss: 1.0777 - val_accuracy: 0.3194\n",
            "Epoch 8/100\n",
            "35/35 [==============================] - 7s 201ms/step - loss: 1.0558 - accuracy: 0.4114 - val_loss: 0.9991 - val_accuracy: 0.5278\n",
            "Epoch 9/100\n",
            "35/35 [==============================] - 7s 201ms/step - loss: 1.0495 - accuracy: 0.4371 - val_loss: 1.0031 - val_accuracy: 0.3889\n",
            "Epoch 10/100\n",
            "35/35 [==============================] - 7s 200ms/step - loss: 1.0472 - accuracy: 0.4248 - val_loss: 0.9823 - val_accuracy: 0.3542\n",
            "Epoch 11/100\n",
            "35/35 [==============================] - 7s 200ms/step - loss: 1.0374 - accuracy: 0.4219 - val_loss: 0.9793 - val_accuracy: 0.4583\n",
            "Epoch 12/100\n",
            "35/35 [==============================] - 7s 198ms/step - loss: 1.0315 - accuracy: 0.4495 - val_loss: 0.9596 - val_accuracy: 0.5347\n",
            "Epoch 13/100\n",
            "35/35 [==============================] - 7s 201ms/step - loss: 1.0353 - accuracy: 0.4410 - val_loss: 0.9824 - val_accuracy: 0.5208\n",
            "Epoch 14/100\n",
            "35/35 [==============================] - 7s 199ms/step - loss: 1.0182 - accuracy: 0.4667 - val_loss: 0.9754 - val_accuracy: 0.5694\n",
            "Epoch 15/100\n",
            "35/35 [==============================] - 7s 201ms/step - loss: 1.0300 - accuracy: 0.4390 - val_loss: 0.9919 - val_accuracy: 0.5972\n",
            "Epoch 16/100\n",
            "35/35 [==============================] - 7s 201ms/step - loss: 1.0312 - accuracy: 0.4371 - val_loss: 0.9821 - val_accuracy: 0.5139\n",
            "Epoch 17/100\n",
            "35/35 [==============================] - 7s 201ms/step - loss: 1.0230 - accuracy: 0.4524 - val_loss: 0.9755 - val_accuracy: 0.5972\n",
            "Epoch 18/100\n",
            "35/35 [==============================] - 7s 199ms/step - loss: 1.0169 - accuracy: 0.4571 - val_loss: 0.9508 - val_accuracy: 0.5000\n",
            "Epoch 19/100\n",
            "35/35 [==============================] - 7s 201ms/step - loss: 1.0059 - accuracy: 0.4619 - val_loss: 0.9696 - val_accuracy: 0.4722\n",
            "Epoch 20/100\n",
            "35/35 [==============================] - 7s 201ms/step - loss: 1.0102 - accuracy: 0.4352 - val_loss: 0.9793 - val_accuracy: 0.6319\n",
            "Epoch 21/100\n",
            "35/35 [==============================] - 7s 197ms/step - loss: 0.9988 - accuracy: 0.4638 - val_loss: 1.0057 - val_accuracy: 0.5833\n",
            "Epoch 22/100\n",
            "35/35 [==============================] - 7s 199ms/step - loss: 0.9934 - accuracy: 0.4848 - val_loss: 1.0450 - val_accuracy: 0.3819\n",
            "Epoch 23/100\n",
            "35/35 [==============================] - 7s 199ms/step - loss: 0.9960 - accuracy: 0.4705 - val_loss: 0.9984 - val_accuracy: 0.5972\n",
            "Epoch 24/100\n",
            "35/35 [==============================] - 7s 197ms/step - loss: 1.0032 - accuracy: 0.4705 - val_loss: 0.9940 - val_accuracy: 0.4375\n",
            "Epoch 25/100\n",
            "35/35 [==============================] - 7s 199ms/step - loss: 0.9833 - accuracy: 0.4771 - val_loss: 0.9774 - val_accuracy: 0.5347\n",
            "Epoch 26/100\n",
            "35/35 [==============================] - 7s 198ms/step - loss: 0.9827 - accuracy: 0.4829 - val_loss: 1.0324 - val_accuracy: 0.5208\n",
            "Epoch 27/100\n",
            "35/35 [==============================] - 7s 200ms/step - loss: 0.9978 - accuracy: 0.4914 - val_loss: 0.9681 - val_accuracy: 0.5694\n",
            "Epoch 28/100\n",
            "35/35 [==============================] - 7s 197ms/step - loss: 0.9948 - accuracy: 0.4600 - val_loss: 0.9335 - val_accuracy: 0.5764\n",
            "Epoch 29/100\n",
            "35/35 [==============================] - 7s 196ms/step - loss: 0.9814 - accuracy: 0.4914 - val_loss: 0.9522 - val_accuracy: 0.6597\n",
            "Epoch 30/100\n",
            "35/35 [==============================] - 7s 200ms/step - loss: 0.9660 - accuracy: 0.4943 - val_loss: 0.9434 - val_accuracy: 0.6042\n",
            "Epoch 31/100\n",
            "35/35 [==============================] - 7s 201ms/step - loss: 0.9897 - accuracy: 0.4648 - val_loss: 0.9179 - val_accuracy: 0.6319\n",
            "Epoch 32/100\n",
            "35/35 [==============================] - 7s 198ms/step - loss: 0.9650 - accuracy: 0.5029 - val_loss: 0.9167 - val_accuracy: 0.5764\n",
            "Epoch 33/100\n",
            "35/35 [==============================] - 7s 200ms/step - loss: 0.9663 - accuracy: 0.4924 - val_loss: 0.8895 - val_accuracy: 0.6944\n",
            "Epoch 34/100\n",
            "35/35 [==============================] - 7s 197ms/step - loss: 0.9535 - accuracy: 0.5048 - val_loss: 0.9125 - val_accuracy: 0.5208\n",
            "Epoch 35/100\n",
            "35/35 [==============================] - 7s 198ms/step - loss: 0.9498 - accuracy: 0.4990 - val_loss: 0.9703 - val_accuracy: 0.5903\n",
            "Epoch 36/100\n",
            "35/35 [==============================] - 7s 197ms/step - loss: 0.9603 - accuracy: 0.4933 - val_loss: 0.9077 - val_accuracy: 0.6250\n",
            "Epoch 37/100\n",
            "35/35 [==============================] - 7s 198ms/step - loss: 0.9489 - accuracy: 0.5105 - val_loss: 0.9130 - val_accuracy: 0.6319\n",
            "Epoch 38/100\n",
            "35/35 [==============================] - 7s 200ms/step - loss: 0.9516 - accuracy: 0.5133 - val_loss: 0.8977 - val_accuracy: 0.6736\n",
            "Epoch 39/100\n",
            "35/35 [==============================] - 7s 202ms/step - loss: 0.9325 - accuracy: 0.5038 - val_loss: 0.9611 - val_accuracy: 0.5347\n",
            "Epoch 40/100\n",
            "35/35 [==============================] - 7s 199ms/step - loss: 0.9486 - accuracy: 0.5076 - val_loss: 0.8852 - val_accuracy: 0.5069\n",
            "Epoch 41/100\n",
            "35/35 [==============================] - 7s 203ms/step - loss: 0.9410 - accuracy: 0.5276 - val_loss: 1.0136 - val_accuracy: 0.4583\n",
            "Epoch 42/100\n",
            "35/35 [==============================] - 7s 204ms/step - loss: 0.9448 - accuracy: 0.5133 - val_loss: 0.8564 - val_accuracy: 0.6597\n",
            "Epoch 43/100\n",
            "35/35 [==============================] - 7s 202ms/step - loss: 0.9361 - accuracy: 0.5143 - val_loss: 0.8334 - val_accuracy: 0.6389\n",
            "Epoch 44/100\n",
            "35/35 [==============================] - 7s 201ms/step - loss: 0.9049 - accuracy: 0.5429 - val_loss: 0.8047 - val_accuracy: 0.6597\n",
            "Epoch 45/100\n",
            "35/35 [==============================] - 7s 203ms/step - loss: 0.9351 - accuracy: 0.5048 - val_loss: 0.8539 - val_accuracy: 0.6389\n",
            "Epoch 46/100\n",
            "35/35 [==============================] - 7s 205ms/step - loss: 0.9245 - accuracy: 0.5248 - val_loss: 0.8336 - val_accuracy: 0.6944\n",
            "Epoch 47/100\n",
            "35/35 [==============================] - 7s 207ms/step - loss: 0.9124 - accuracy: 0.5324 - val_loss: 0.8676 - val_accuracy: 0.5694\n",
            "Epoch 48/100\n",
            "35/35 [==============================] - 7s 205ms/step - loss: 0.9065 - accuracy: 0.5171 - val_loss: 0.8393 - val_accuracy: 0.6111\n",
            "Epoch 49/100\n",
            "35/35 [==============================] - 7s 201ms/step - loss: 0.9486 - accuracy: 0.5086 - val_loss: 0.8958 - val_accuracy: 0.5139\n",
            "Epoch 50/100\n",
            "35/35 [==============================] - 7s 202ms/step - loss: 0.9294 - accuracy: 0.5305 - val_loss: 0.8727 - val_accuracy: 0.6597\n",
            "Epoch 51/100\n",
            "35/35 [==============================] - 7s 202ms/step - loss: 0.9089 - accuracy: 0.5390 - val_loss: 0.7805 - val_accuracy: 0.6111\n",
            "Epoch 52/100\n",
            "35/35 [==============================] - 7s 200ms/step - loss: 0.9093 - accuracy: 0.5400 - val_loss: 0.8164 - val_accuracy: 0.7153\n",
            "Epoch 53/100\n",
            "35/35 [==============================] - 7s 201ms/step - loss: 0.8960 - accuracy: 0.5543 - val_loss: 0.8008 - val_accuracy: 0.6389\n",
            "Epoch 54/100\n",
            "35/35 [==============================] - 7s 198ms/step - loss: 0.9104 - accuracy: 0.5590 - val_loss: 0.7971 - val_accuracy: 0.6667\n",
            "Epoch 55/100\n",
            "35/35 [==============================] - 7s 199ms/step - loss: 0.9092 - accuracy: 0.5486 - val_loss: 0.8357 - val_accuracy: 0.7222\n",
            "Epoch 56/100\n",
            "35/35 [==============================] - 7s 198ms/step - loss: 0.9070 - accuracy: 0.5400 - val_loss: 0.8790 - val_accuracy: 0.6250\n",
            "Epoch 57/100\n",
            "35/35 [==============================] - 7s 196ms/step - loss: 0.8914 - accuracy: 0.5657 - val_loss: 0.8232 - val_accuracy: 0.6389\n",
            "Epoch 58/100\n",
            "35/35 [==============================] - 7s 198ms/step - loss: 0.8845 - accuracy: 0.5524 - val_loss: 0.8794 - val_accuracy: 0.5764\n",
            "Epoch 59/100\n",
            "35/35 [==============================] - 7s 196ms/step - loss: 0.8861 - accuracy: 0.5676 - val_loss: 0.9064 - val_accuracy: 0.5417\n",
            "Epoch 60/100\n",
            "35/35 [==============================] - 7s 198ms/step - loss: 0.9027 - accuracy: 0.5324 - val_loss: 0.8957 - val_accuracy: 0.5764\n",
            "Epoch 61/100\n",
            "35/35 [==============================] - 7s 196ms/step - loss: 0.8761 - accuracy: 0.5648 - val_loss: 0.9188 - val_accuracy: 0.5417\n",
            "Epoch 62/100\n",
            "35/35 [==============================] - 7s 197ms/step - loss: 0.8963 - accuracy: 0.5457 - val_loss: 1.0203 - val_accuracy: 0.3958\n",
            "Epoch 63/100\n",
            "35/35 [==============================] - 7s 197ms/step - loss: 0.8893 - accuracy: 0.5667 - val_loss: 0.8536 - val_accuracy: 0.5972\n",
            "Epoch 64/100\n",
            "35/35 [==============================] - 7s 197ms/step - loss: 0.8905 - accuracy: 0.5305 - val_loss: 0.8854 - val_accuracy: 0.4236\n",
            "Epoch 65/100\n",
            "35/35 [==============================] - 7s 202ms/step - loss: 0.8901 - accuracy: 0.5533 - val_loss: 0.8961 - val_accuracy: 0.4514\n",
            "Epoch 66/100\n",
            "35/35 [==============================] - 7s 199ms/step - loss: 0.8796 - accuracy: 0.5886 - val_loss: 0.8478 - val_accuracy: 0.4444\n",
            "Epoch 67/100\n",
            "35/35 [==============================] - 7s 199ms/step - loss: 0.8847 - accuracy: 0.5524 - val_loss: 0.9340 - val_accuracy: 0.3958\n",
            "Epoch 68/100\n",
            "35/35 [==============================] - 7s 200ms/step - loss: 0.8668 - accuracy: 0.5695 - val_loss: 0.8518 - val_accuracy: 0.4931\n",
            "Epoch 69/100\n",
            "35/35 [==============================] - 7s 198ms/step - loss: 0.8743 - accuracy: 0.5705 - val_loss: 0.8225 - val_accuracy: 0.4861\n",
            "Epoch 70/100\n",
            "35/35 [==============================] - 7s 199ms/step - loss: 0.8605 - accuracy: 0.5600 - val_loss: 0.8600 - val_accuracy: 0.4583\n",
            "Epoch 71/100\n",
            "35/35 [==============================] - 7s 197ms/step - loss: 0.8671 - accuracy: 0.5743 - val_loss: 0.9721 - val_accuracy: 0.3542\n",
            "Epoch 72/100\n",
            "35/35 [==============================] - 7s 200ms/step - loss: 0.8469 - accuracy: 0.5838 - val_loss: 0.8433 - val_accuracy: 0.4722\n",
            "Epoch 73/100\n",
            "35/35 [==============================] - 7s 199ms/step - loss: 0.8545 - accuracy: 0.5705 - val_loss: 0.9677 - val_accuracy: 0.3403\n",
            "Epoch 74/100\n",
            "35/35 [==============================] - 7s 198ms/step - loss: 0.8565 - accuracy: 0.5867 - val_loss: 0.7719 - val_accuracy: 0.5903\n",
            "Epoch 75/100\n",
            "35/35 [==============================] - 7s 198ms/step - loss: 0.8585 - accuracy: 0.5552 - val_loss: 0.8088 - val_accuracy: 0.4931\n",
            "Epoch 76/100\n",
            "35/35 [==============================] - 7s 198ms/step - loss: 0.8515 - accuracy: 0.5733 - val_loss: 0.8105 - val_accuracy: 0.5833\n",
            "Epoch 77/100\n",
            "35/35 [==============================] - 7s 202ms/step - loss: 0.8558 - accuracy: 0.5790 - val_loss: 0.7962 - val_accuracy: 0.4722\n",
            "Epoch 78/100\n",
            "35/35 [==============================] - 7s 199ms/step - loss: 0.8424 - accuracy: 0.5743 - val_loss: 0.8187 - val_accuracy: 0.4722\n",
            "Epoch 79/100\n",
            "35/35 [==============================] - 7s 198ms/step - loss: 0.8227 - accuracy: 0.6143 - val_loss: 1.2613 - val_accuracy: 0.2153\n",
            "Epoch 80/100\n",
            "35/35 [==============================] - 7s 196ms/step - loss: 0.8616 - accuracy: 0.5600 - val_loss: 0.9136 - val_accuracy: 0.4375\n",
            "Epoch 81/100\n",
            "35/35 [==============================] - 7s 197ms/step - loss: 0.8331 - accuracy: 0.5876 - val_loss: 0.8083 - val_accuracy: 0.4722\n",
            "Epoch 82/100\n",
            "35/35 [==============================] - 7s 199ms/step - loss: 0.8382 - accuracy: 0.5914 - val_loss: 0.8640 - val_accuracy: 0.4167\n",
            "Epoch 83/100\n",
            "35/35 [==============================] - 7s 196ms/step - loss: 0.8554 - accuracy: 0.5895 - val_loss: 0.9217 - val_accuracy: 0.6597\n",
            "Epoch 84/100\n",
            "35/35 [==============================] - 7s 197ms/step - loss: 0.8445 - accuracy: 0.5876 - val_loss: 0.8802 - val_accuracy: 0.5486\n",
            "Epoch 85/100\n",
            "35/35 [==============================] - 7s 196ms/step - loss: 0.8312 - accuracy: 0.6010 - val_loss: 0.8627 - val_accuracy: 0.5625\n",
            "Epoch 86/100\n",
            "35/35 [==============================] - 7s 196ms/step - loss: 0.8289 - accuracy: 0.6000 - val_loss: 0.9562 - val_accuracy: 0.5278\n",
            "Epoch 87/100\n",
            "35/35 [==============================] - 7s 197ms/step - loss: 0.8382 - accuracy: 0.6000 - val_loss: 0.8645 - val_accuracy: 0.5208\n",
            "Epoch 88/100\n",
            "35/35 [==============================] - 7s 195ms/step - loss: 0.8469 - accuracy: 0.5724 - val_loss: 0.8595 - val_accuracy: 0.5069\n",
            "Epoch 89/100\n",
            "35/35 [==============================] - 7s 195ms/step - loss: 0.8257 - accuracy: 0.5867 - val_loss: 0.8609 - val_accuracy: 0.5417\n",
            "Epoch 90/100\n",
            "35/35 [==============================] - 7s 194ms/step - loss: 0.8170 - accuracy: 0.6038 - val_loss: 0.8910 - val_accuracy: 0.4861\n",
            "Epoch 91/100\n",
            "35/35 [==============================] - 7s 195ms/step - loss: 0.8361 - accuracy: 0.6038 - val_loss: 0.8127 - val_accuracy: 0.5000\n",
            "Epoch 92/100\n",
            "35/35 [==============================] - 7s 196ms/step - loss: 0.8268 - accuracy: 0.6076 - val_loss: 0.8799 - val_accuracy: 0.5972\n",
            "Epoch 93/100\n",
            "35/35 [==============================] - 7s 203ms/step - loss: 0.8193 - accuracy: 0.5924 - val_loss: 0.7717 - val_accuracy: 0.6250\n",
            "Epoch 94/100\n",
            "35/35 [==============================] - 7s 203ms/step - loss: 0.8104 - accuracy: 0.5990 - val_loss: 0.7919 - val_accuracy: 0.5764\n",
            "Epoch 95/100\n",
            "35/35 [==============================] - 7s 200ms/step - loss: 0.8169 - accuracy: 0.6076 - val_loss: 0.8506 - val_accuracy: 0.5000\n",
            "Epoch 96/100\n",
            "35/35 [==============================] - 7s 202ms/step - loss: 0.8085 - accuracy: 0.6162 - val_loss: 0.7262 - val_accuracy: 0.5764\n",
            "Epoch 97/100\n",
            "35/35 [==============================] - 7s 211ms/step - loss: 0.7927 - accuracy: 0.6190 - val_loss: 1.0510 - val_accuracy: 0.2361\n",
            "Epoch 98/100\n",
            "35/35 [==============================] - 7s 203ms/step - loss: 0.8093 - accuracy: 0.5933 - val_loss: 0.7637 - val_accuracy: 0.5278\n",
            "Epoch 99/100\n",
            "35/35 [==============================] - 7s 203ms/step - loss: 0.8232 - accuracy: 0.6029 - val_loss: 0.8141 - val_accuracy: 0.5347\n",
            "Epoch 100/100\n",
            "35/35 [==============================] - 7s 203ms/step - loss: 0.8134 - accuracy: 0.5971 - val_loss: 0.8020 - val_accuracy: 0.6389\n"
          ]
        }
      ]
    },
    {
      "cell_type": "code",
      "metadata": {
        "colab": {
          "base_uri": "https://localhost:8080/",
          "height": 308
        },
        "id": "9EeOXU4-CdGm",
        "outputId": "78c67e21-2aec-44b0-96da-26cf8d1c6ee9"
      },
      "source": [
        "f, (ax1, ax2) = plt.subplots(1, 2, figsize=(12, 4))\n",
        "t = f.suptitle('CNN with Augmentation Performance', fontsize=12)\n",
        "f.subplots_adjust(top=0.85, wspace=0.3)\n",
        "\n",
        "epoch_list = list(range(1,101))\n",
        "ax1.plot(epoch_list, history.history['accuracy'], label='Train Accuracy')\n",
        "ax1.plot(epoch_list, history.history['val_accuracy'], label='Validation Accuracy')\n",
        "ax1.set_xticks(np.arange(1, 101, 10))\n",
        "ax1.set_ylabel('Accuracy Value')\n",
        "ax1.set_xlabel('Epoch')\n",
        "ax1.set_title('Accuracy')\n",
        "l1 = ax1.legend(loc=\"best\")\n",
        "\n",
        "ax2.plot(epoch_list, history.history['loss'], label='Train Loss')\n",
        "ax2.plot(epoch_list, history.history['val_loss'], label='Validation Loss')\n",
        "ax2.set_xticks(np.arange(1, 101, 10))\n",
        "ax2.set_ylabel('Loss Value')\n",
        "ax2.set_xlabel('Epoch')\n",
        "ax2.set_title('Loss')\n",
        "l2 = ax2.legend(loc=\"best\")"
      ],
      "execution_count": 57,
      "outputs": [
        {
          "output_type": "display_data",
          "data": {
            "image/png": "[encoded data removed]",
            "text/plain": [
              "<Figure size 864x288 with 2 Axes>"
            ]
          },
          "metadata": {
            "needs_background": "light"
          }
        }
      ]
    },
    {
      "cell_type": "code",
      "metadata": {
        "colab": {
          "base_uri": "https://localhost:8080/"
        },
        "id": "Flv5nCGqGk2m",
        "outputId": "5de88333-07f3-4130-9e52-a363291c4e25"
      },
      "source": [
        "model.save('cnn_img_aug')"
      ],
      "execution_count": 58,
      "outputs": [
        {
          "output_type": "stream",
          "name": "stdout",
          "text": [
            "INFO:tensorflow:Assets written to: cnn_img_aug/assets\n"
          ]
        }
      ]
    },
    {
      "cell_type": "markdown",
      "metadata": {
        "id": "9J6VPboLG2xD"
      },
      "source": [
        "## VGG-16 Model"
      ]
    },
    {
      "cell_type": "code",
      "metadata": {
        "id": "8dRJqQLSUMqk"
      },
      "source": [
        "input_shape = (150, 150, 3)"
      ],
      "execution_count": 128,
      "outputs": []
    },
    {
      "cell_type": "code",
      "metadata": {
        "colab": {
          "base_uri": "https://localhost:8080/"
        },
        "id": "sN1OA-aRPU4h",
        "outputId": "4646ccf8-58fd-4f0f-fc9b-e3117c2188a2"
      },
      "source": [
        "train_datagen = ImageDataGenerator(rescale=1./255)\n",
        "val_datagen = ImageDataGenerator(rescale=1./255)\n",
        "\n",
        "train_gen = train_datagen.flow_from_directory(\n",
        "    train_dir, target_size=(150, 150), batch_size=30, class_mode='categorical')\n",
        "\n",
        "val_gen = val_datagen.flow_from_directory(\n",
        "    val_dir, target_size=(150, 150), batch_size=30, class_mode='categorical')"
      ],
      "execution_count": 129,
      "outputs": [
        {
          "output_type": "stream",
          "name": "stdout",
          "text": [
            "Found 1050 images belonging to 3 classes.\n",
            "Found 144 images belonging to 3 classes.\n"
          ]
        }
      ]
    },
    {
      "cell_type": "code",
      "metadata": {
        "id": "w4y9dDXQG0mH"
      },
      "source": [
        "vgg = vgg16.VGG16(include_top=False, weights='imagenet', \n",
        "                                     input_shape=input_shape)"
      ],
      "execution_count": 130,
      "outputs": []
    },
    {
      "cell_type": "code",
      "metadata": {
        "id": "KTlTSeMRHCgc"
      },
      "source": [
        "output = vgg.layers[-1].output\n",
        "output = Flatten()(output)\n",
        "vgg_model = Model(vgg.input, output)"
      ],
      "execution_count": 131,
      "outputs": []
    },
    {
      "cell_type": "code",
      "metadata": {
        "id": "SEZ3v2U0HFnQ"
      },
      "source": [
        "vgg_model.trainable = False\n",
        "for layer in vgg_model.layers:\n",
        "    layer.trainable = False"
      ],
      "execution_count": 132,
      "outputs": []
    },
    {
      "cell_type": "code",
      "metadata": {
        "colab": {
          "base_uri": "https://localhost:8080/",
          "height": 731
        },
        "id": "2ItKBJO2HV66",
        "outputId": "04628ff0-c9ca-4389-e594-8bd4fed49e64"
      },
      "source": [
        "pd.set_option('max_colwidth', -1)\n",
        "layers = [(layer, layer.name, layer.trainable) for layer in vgg_model.layers]\n",
        "pd.DataFrame(layers, columns=['Layer Type', 'Layer Name', 'Layer Trainable'])"
      ],
      "execution_count": 133,
      "outputs": [
        {
          "output_type": "stream",
          "name": "stderr",
          "text": [
            "/usr/local/lib/python3.7/dist-packages/ipykernel_launcher.py:1: FutureWarning: Passing a negative integer is deprecated in version 1.0 and will not be supported in future version. Instead, use None to not limit the column width.\n",
            "  \"\"\"Entry point for launching an IPython kernel.\n"
          ]
        },
        {
          "output_type": "execute_result",
          "data": {
            "text/html": [
              "<div>\n",
              "<style scoped>\n",
              "    .dataframe tbody tr th:only-of-type {\n",
              "        vertical-align: middle;\n",
              "    }\n",
              "\n",
              "    .dataframe tbody tr th {\n",
              "        vertical-align: top;\n",
              "    }\n",
              "\n",
              "    .dataframe thead th {\n",
              "        text-align: right;\n",
              "    }\n",
              "</style>\n",
              "<table border=\"1\" class=\"dataframe\">\n",
              "  <thead>\n",
              "    <tr style=\"text-align: right;\">\n",
              "      <th></th>\n",
              "      <th>Layer Type</th>\n",
              "      <th>Layer Name</th>\n",
              "      <th>Layer Trainable</th>\n",
              "    </tr>\n",
              "  </thead>\n",
              "  <tbody>\n",
              "    <tr>\n",
              "      <th>0</th>\n",
              "      <td>&lt;keras.engine.input_layer.InputLayer object at 0x7f98d04c6ed0&gt;</td>\n",
              "      <td>input_14</td>\n",
              "      <td>False</td>\n",
              "    </tr>\n",
              "    <tr>\n",
              "      <th>1</th>\n",
              "      <td>&lt;keras.layers.convolutional.Conv2D object at 0x7f98d04c6190&gt;</td>\n",
              "      <td>block1_conv1</td>\n",
              "      <td>False</td>\n",
              "    </tr>\n",
              "    <tr>\n",
              "      <th>2</th>\n",
              "      <td>&lt;keras.layers.convolutional.Conv2D object at 0x7f994cdd8750&gt;</td>\n",
              "      <td>block1_conv2</td>\n",
              "      <td>False</td>\n",
              "    </tr>\n",
              "    <tr>\n",
              "      <th>3</th>\n",
              "      <td>&lt;keras.layers.pooling.MaxPooling2D object at 0x7f98d7353f90&gt;</td>\n",
              "      <td>block1_pool</td>\n",
              "      <td>False</td>\n",
              "    </tr>\n",
              "    <tr>\n",
              "      <th>4</th>\n",
              "      <td>&lt;keras.layers.convolutional.Conv2D object at 0x7f98d050add0&gt;</td>\n",
              "      <td>block2_conv1</td>\n",
              "      <td>False</td>\n",
              "    </tr>\n",
              "    <tr>\n",
              "      <th>5</th>\n",
              "      <td>&lt;keras.layers.convolutional.Conv2D object at 0x7f994cde8a50&gt;</td>\n",
              "      <td>block2_conv2</td>\n",
              "      <td>False</td>\n",
              "    </tr>\n",
              "    <tr>\n",
              "      <th>6</th>\n",
              "      <td>&lt;keras.layers.pooling.MaxPooling2D object at 0x7f98d4bfcc50&gt;</td>\n",
              "      <td>block2_pool</td>\n",
              "      <td>False</td>\n",
              "    </tr>\n",
              "    <tr>\n",
              "      <th>7</th>\n",
              "      <td>&lt;keras.layers.convolutional.Conv2D object at 0x7f994cd2c750&gt;</td>\n",
              "      <td>block3_conv1</td>\n",
              "      <td>False</td>\n",
              "    </tr>\n",
              "    <tr>\n",
              "      <th>8</th>\n",
              "      <td>&lt;keras.layers.convolutional.Conv2D object at 0x7f98d050a590&gt;</td>\n",
              "      <td>block3_conv2</td>\n",
              "      <td>False</td>\n",
              "    </tr>\n",
              "    <tr>\n",
              "      <th>9</th>\n",
              "      <td>&lt;keras.layers.convolutional.Conv2D object at 0x7f99c5d85f90&gt;</td>\n",
              "      <td>block3_conv3</td>\n",
              "      <td>False</td>\n",
              "    </tr>\n",
              "    <tr>\n",
              "      <th>10</th>\n",
              "      <td>&lt;keras.layers.pooling.MaxPooling2D object at 0x7f98d04e99d0&gt;</td>\n",
              "      <td>block3_pool</td>\n",
              "      <td>False</td>\n",
              "    </tr>\n",
              "    <tr>\n",
              "      <th>11</th>\n",
              "      <td>&lt;keras.layers.convolutional.Conv2D object at 0x7f98d04e9ad0&gt;</td>\n",
              "      <td>block4_conv1</td>\n",
              "      <td>False</td>\n",
              "    </tr>\n",
              "    <tr>\n",
              "      <th>12</th>\n",
              "      <td>&lt;keras.layers.convolutional.Conv2D object at 0x7f98d050ac10&gt;</td>\n",
              "      <td>block4_conv2</td>\n",
              "      <td>False</td>\n",
              "    </tr>\n",
              "    <tr>\n",
              "      <th>13</th>\n",
              "      <td>&lt;keras.layers.convolutional.Conv2D object at 0x7f994d8a4f50&gt;</td>\n",
              "      <td>block4_conv3</td>\n",
              "      <td>False</td>\n",
              "    </tr>\n",
              "    <tr>\n",
              "      <th>14</th>\n",
              "      <td>&lt;keras.layers.pooling.MaxPooling2D object at 0x7f994cf0c150&gt;</td>\n",
              "      <td>block4_pool</td>\n",
              "      <td>False</td>\n",
              "    </tr>\n",
              "    <tr>\n",
              "      <th>15</th>\n",
              "      <td>&lt;keras.layers.convolutional.Conv2D object at 0x7f98d0502dd0&gt;</td>\n",
              "      <td>block5_conv1</td>\n",
              "      <td>False</td>\n",
              "    </tr>\n",
              "    <tr>\n",
              "      <th>16</th>\n",
              "      <td>&lt;keras.layers.convolutional.Conv2D object at 0x7f98d6fef150&gt;</td>\n",
              "      <td>block5_conv2</td>\n",
              "      <td>False</td>\n",
              "    </tr>\n",
              "    <tr>\n",
              "      <th>17</th>\n",
              "      <td>&lt;keras.layers.convolutional.Conv2D object at 0x7f98d0503850&gt;</td>\n",
              "      <td>block5_conv3</td>\n",
              "      <td>False</td>\n",
              "    </tr>\n",
              "    <tr>\n",
              "      <th>18</th>\n",
              "      <td>&lt;keras.layers.pooling.MaxPooling2D object at 0x7f98d0525410&gt;</td>\n",
              "      <td>block5_pool</td>\n",
              "      <td>False</td>\n",
              "    </tr>\n",
              "    <tr>\n",
              "      <th>19</th>\n",
              "      <td>&lt;keras.layers.core.Flatten object at 0x7f98d0502450&gt;</td>\n",
              "      <td>flatten_16</td>\n",
              "      <td>False</td>\n",
              "    </tr>\n",
              "  </tbody>\n",
              "</table>\n",
              "</div>"
            ],
            "text/plain": [
              "                                                        Layer Type  ... Layer Trainable\n",
              "0   <keras.engine.input_layer.InputLayer object at 0x7f98d04c6ed0>  ...  False         \n",
              "1   <keras.layers.convolutional.Conv2D object at 0x7f98d04c6190>    ...  False         \n",
              "2   <keras.layers.convolutional.Conv2D object at 0x7f994cdd8750>    ...  False         \n",
              "3   <keras.layers.pooling.MaxPooling2D object at 0x7f98d7353f90>    ...  False         \n",
              "4   <keras.layers.convolutional.Conv2D object at 0x7f98d050add0>    ...  False         \n",
              "5   <keras.layers.convolutional.Conv2D object at 0x7f994cde8a50>    ...  False         \n",
              "6   <keras.layers.pooling.MaxPooling2D object at 0x7f98d4bfcc50>    ...  False         \n",
              "7   <keras.layers.convolutional.Conv2D object at 0x7f994cd2c750>    ...  False         \n",
              "8   <keras.layers.convolutional.Conv2D object at 0x7f98d050a590>    ...  False         \n",
              "9   <keras.layers.convolutional.Conv2D object at 0x7f99c5d85f90>    ...  False         \n",
              "10  <keras.layers.pooling.MaxPooling2D object at 0x7f98d04e99d0>    ...  False         \n",
              "11  <keras.layers.convolutional.Conv2D object at 0x7f98d04e9ad0>    ...  False         \n",
              "12  <keras.layers.convolutional.Conv2D object at 0x7f98d050ac10>    ...  False         \n",
              "13  <keras.layers.convolutional.Conv2D object at 0x7f994d8a4f50>    ...  False         \n",
              "14  <keras.layers.pooling.MaxPooling2D object at 0x7f994cf0c150>    ...  False         \n",
              "15  <keras.layers.convolutional.Conv2D object at 0x7f98d0502dd0>    ...  False         \n",
              "16  <keras.layers.convolutional.Conv2D object at 0x7f98d6fef150>    ...  False         \n",
              "17  <keras.layers.convolutional.Conv2D object at 0x7f98d0503850>    ...  False         \n",
              "18  <keras.layers.pooling.MaxPooling2D object at 0x7f98d0525410>    ...  False         \n",
              "19  <keras.layers.core.Flatten object at 0x7f98d0502450>            ...  False         \n",
              "\n",
              "[20 rows x 3 columns]"
            ]
          },
          "metadata": {},
          "execution_count": 133
        }
      ]
    },
    {
      "cell_type": "code",
      "metadata": {
        "colab": {
          "base_uri": "https://localhost:8080/",
          "height": 358
        },
        "id": "0VHgP_LQNEHe",
        "outputId": "2792cc36-3e8c-4d93-fb24-242637bd9212"
      },
      "source": [
        "bottleneck_feature_example = vgg.predict_generator(train_gen)\n",
        "print(bottleneck_feature_example.shape)\n",
        "plt.imshow(bottleneck_feature_example[0][:,:,0])"
      ],
      "execution_count": 134,
      "outputs": [
        {
          "output_type": "stream",
          "name": "stderr",
          "text": [
            "/usr/local/lib/python3.7/dist-packages/keras/engine/training.py:2035: UserWarning: `Model.predict_generator` is deprecated and will be removed in a future version. Please use `Model.predict`, which supports generators.\n",
            "  warnings.warn('`Model.predict_generator` is deprecated and '\n"
          ]
        },
        {
          "output_type": "stream",
          "name": "stdout",
          "text": [
            "(1050, 4, 4, 512)\n"
          ]
        },
        {
          "output_type": "execute_result",
          "data": {
            "text/plain": [
              "<matplotlib.image.AxesImage at 0x7f994cde8310>"
            ]
          },
          "metadata": {},
          "execution_count": 134
        },
        {
          "output_type": "display_data",
          "data": {
            "image/png": "[encoded data removed]",
            "text/plain": [
              "<Figure size 432x288 with 1 Axes>"
            ]
          },
          "metadata": {
            "needs_background": "light"
          }
        }
      ]
    },
    {
      "cell_type": "code",
      "metadata": {
        "colab": {
          "base_uri": "https://localhost:8080/"
        },
        "id": "9Tt8gpcuODRn",
        "outputId": "ec27e3f6-2305-4456-d2db-b4c3901c5165"
      },
      "source": [
        "def get_bottleneck_features(model, input_img):\n",
        "    features = model.predict_generator(input_img)\n",
        "    return features\n",
        "    \n",
        "train_features_vgg = get_bottleneck_features(vgg_model, train_gen)\n",
        "validation_features_vgg = get_bottleneck_features(vgg_model, val_gen)\n",
        "\n",
        "print('Train Bottleneck Features:', train_features_vgg.shape, \n",
        "      '\\tValidation Bottleneck Features:', validation_features_vgg.shape)\n"
      ],
      "execution_count": 135,
      "outputs": [
        {
          "output_type": "stream",
          "name": "stderr",
          "text": [
            "/usr/local/lib/python3.7/dist-packages/keras/engine/training.py:2035: UserWarning: `Model.predict_generator` is deprecated and will be removed in a future version. Please use `Model.predict`, which supports generators.\n",
            "  warnings.warn('`Model.predict_generator` is deprecated and '\n"
          ]
        },
        {
          "output_type": "stream",
          "name": "stdout",
          "text": [
            "Train Bottleneck Features: (1050, 8192) \tValidation Bottleneck Features: (144, 8192)\n"
          ]
        }
      ]
    },
    {
      "cell_type": "code",
      "metadata": {
        "colab": {
          "base_uri": "https://localhost:8080/"
        },
        "id": "yn2LQ8C7QOPK",
        "outputId": "29445ad0-8ccc-431c-bb62-9204998e4d6f"
      },
      "source": [
        "input_shape = vgg_model.output_shape[1]\n",
        "\n",
        "model = Sequential()\n",
        "model.add(InputLayer(input_shape=(input_shape,)))\n",
        "model.add(Dense(512, activation='relu', input_dim=input_shape))\n",
        "model.add(Dropout(0.3))\n",
        "model.add(Dense(512, activation='relu'))\n",
        "model.add(Dropout(0.3))\n",
        "model.add(Dense(1, activation='sigmoid'))\n",
        "\n",
        "model.compile(loss='binary_crossentropy',\n",
        "              optimizer=RMSprop(learning_rate=1e-4),\n",
        "              metrics=['accuracy'])\n",
        "\n",
        "model.summary()"
      ],
      "execution_count": 136,
      "outputs": [
        {
          "output_type": "stream",
          "name": "stdout",
          "text": [
            "Model: \"sequential_25\"\n",
            "_________________________________________________________________\n",
            "Layer (type)                 Output Shape              Param #   \n",
            "=================================================================\n",
            "dense_57 (Dense)             (None, 512)               4194816   \n",
            "_________________________________________________________________\n",
            "dropout_32 (Dropout)         (None, 512)               0         \n",
            "_________________________________________________________________\n",
            "dense_58 (Dense)             (None, 512)               262656    \n",
            "_________________________________________________________________\n",
            "dropout_33 (Dropout)         (None, 512)               0         \n",
            "_________________________________________________________________\n",
            "dense_59 (Dense)             (None, 1)                 513       \n",
            "=================================================================\n",
            "Total params: 4,457,985\n",
            "Trainable params: 4,457,985\n",
            "Non-trainable params: 0\n",
            "_________________________________________________________________\n"
          ]
        }
      ]
    },
    {
      "cell_type": "code",
      "metadata": {
        "colab": {
          "base_uri": "https://localhost:8080/"
        },
        "id": "gFO94yRvQbbH",
        "outputId": "ee3b8f9f-a735-432a-a263-810a6db1af95"
      },
      "source": [
        "history = model.fit(\n",
        "    x=train_features_vgg, y=train_gen.labels, \n",
        "    validation_data=(validation_features_vgg, val_gen.labels),\n",
        "    batch_size=30,\n",
        "    epochs=10,\n",
        "    verbose=1\n",
        ")"
      ],
      "execution_count": 137,
      "outputs": [
        {
          "output_type": "stream",
          "name": "stdout",
          "text": [
            "Epoch 1/10\n",
            "35/35 [==============================] - 1s 13ms/step - loss: 0.0488 - accuracy: 0.3305 - val_loss: -0.4341 - val_accuracy: 0.3958\n",
            "Epoch 2/10\n",
            "35/35 [==============================] - 0s 8ms/step - loss: 0.0080 - accuracy: 0.3333 - val_loss: -0.4098 - val_accuracy: 0.3958\n",
            "Epoch 3/10\n",
            "35/35 [==============================] - 0s 8ms/step - loss: 0.0846 - accuracy: 0.3333 - val_loss: -0.3844 - val_accuracy: 0.3958\n",
            "Epoch 4/10\n",
            "35/35 [==============================] - 0s 8ms/step - loss: -0.0723 - accuracy: 0.3333 - val_loss: -0.5206 - val_accuracy: 0.3958\n",
            "Epoch 5/10\n",
            "35/35 [==============================] - 0s 8ms/step - loss: -0.1169 - accuracy: 0.3333 - val_loss: -0.5898 - val_accuracy: 0.3958\n",
            "Epoch 6/10\n",
            "35/35 [==============================] - 0s 8ms/step - loss: -0.0680 - accuracy: 0.3333 - val_loss: -0.6099 - val_accuracy: 0.3958\n",
            "Epoch 7/10\n",
            "35/35 [==============================] - 0s 8ms/step - loss: -0.1759 - accuracy: 0.3333 - val_loss: -0.6067 - val_accuracy: 0.3958\n",
            "Epoch 8/10\n",
            "35/35 [==============================] - 0s 8ms/step - loss: -0.2722 - accuracy: 0.3305 - val_loss: -0.7406 - val_accuracy: 0.3958\n",
            "Epoch 9/10\n",
            "35/35 [==============================] - 0s 8ms/step - loss: -0.3977 - accuracy: 0.3343 - val_loss: -1.0308 - val_accuracy: 0.3958\n",
            "Epoch 10/10\n",
            "35/35 [==============================] - 0s 8ms/step - loss: -0.4460 - accuracy: 0.3333 - val_loss: -1.1557 - val_accuracy: 0.3958\n"
          ]
        }
      ]
    },
    {
      "cell_type": "code",
      "metadata": {
        "colab": {
          "base_uri": "https://localhost:8080/",
          "height": 308
        },
        "id": "tEm5V6uKQh6y",
        "outputId": "a117a79a-a1c3-42bf-9a2b-52b565c739fa"
      },
      "source": [
        "f, (ax1, ax2) = plt.subplots(1, 2, figsize=(12, 4))\n",
        "t = f.suptitle('VGG-16 Performance', fontsize=12)\n",
        "f.subplots_adjust(top=0.85, wspace=0.3)\n",
        "\n",
        "epoch_list = list(range(1,11))\n",
        "ax1.plot(epoch_list, history.history['accuracy'], label='Train Accuracy')\n",
        "ax1.plot(epoch_list, history.history['val_accuracy'], label='Validation Accuracy')\n",
        "ax1.set_xticks(np.arange(0, 11, 1))\n",
        "ax1.set_ylabel('Accuracy Value')\n",
        "ax1.set_xlabel('Epoch')\n",
        "ax1.set_title('Accuracy')\n",
        "l1 = ax1.legend(loc=\"best\")\n",
        "\n",
        "ax2.plot(epoch_list, history.history['loss'], label='Train Loss')\n",
        "ax2.plot(epoch_list, history.history['val_loss'], label='Validation Loss')\n",
        "ax2.set_xticks(np.arange(0, 11, 1))\n",
        "ax2.set_ylabel('Loss Value')\n",
        "ax2.set_xlabel('Epoch')\n",
        "ax2.set_title('Loss')\n",
        "l2 = ax2.legend(loc=\"best\")"
      ],
      "execution_count": 138,
      "outputs": [
        {
          "output_type": "display_data",
          "data": {
            "image/png": "[encoded data removed]",
            "text/plain": [
              "<Figure size 864x288 with 2 Axes>"
            ]
          },
          "metadata": {
            "needs_background": "light"
          }
        }
      ]
    },
    {
      "cell_type": "markdown",
      "metadata": {
        "id": "5sFiAuh4XAfa"
      },
      "source": [
        "## VGG-16 Model with Data Augmentation"
      ]
    },
    {
      "cell_type": "code",
      "metadata": {
        "colab": {
          "base_uri": "https://localhost:8080/"
        },
        "id": "Y55ijIbsWlYQ",
        "outputId": "cc029ad7-e61c-461c-e9ea-96144d161bfd"
      },
      "source": [
        "train_datagen = ImageDataGenerator(rescale=1./255, zoom_range=0.3, rotation_range=50,\n",
        "                                   width_shift_range=0.2, height_shift_range=0.2, shear_range=0.2, \n",
        "                                   horizontal_flip=True, fill_mode='nearest')\n",
        "\n",
        "val_datagen = ImageDataGenerator(rescale=1./255)\n",
        "\n",
        "train_gen = train_datagen.flow_from_directory(\n",
        "    train_dir, target_size=(150, 150), batch_size=30, class_mode='categorical')\n",
        "\n",
        "val_gen = val_datagen.flow_from_directory(\n",
        "    val_dir, target_size=(150, 150), batch_size=30, class_mode='categorical')"
      ],
      "execution_count": 127,
      "outputs": [
        {
          "output_type": "stream",
          "name": "stdout",
          "text": [
            "Found 1050 images belonging to 3 classes.\n",
            "Found 144 images belonging to 3 classes.\n"
          ]
        }
      ]
    },
    {
      "cell_type": "code",
      "metadata": {
        "id": "bHJbNguGXiEw"
      },
      "source": [
        "model = Sequential()\n",
        "model.add(vgg_model)\n",
        "model.add(Dense(512, activation='relu', input_dim=input_shape))\n",
        "model.add(Dropout(0.3))\n",
        "model.add(Dense(512, activation='relu'))\n",
        "model.add(Dropout(0.3))\n",
        "model.add(Dense(1, activation='sigmoid'))\n",
        "\n",
        "model.compile(loss='binary_crossentropy',\n",
        "              optimizer=RMSprop(learning_rate=2e-5),\n",
        "              metrics=['accuracy'])"
      ],
      "execution_count": 143,
      "outputs": []
    },
    {
      "cell_type": "code",
      "metadata": {
        "colab": {
          "base_uri": "https://localhost:8080/"
        },
        "id": "XFtW6f4AYbuf",
        "outputId": "8903d688-467e-4ec1-dd57-e41f6e4056c6"
      },
      "source": [
        "history = model.fit(\n",
        "    train_gen, \n",
        "    validation_data=val_gen,\n",
        "    batch_size=batch_size,\n",
        "    epochs=10,\n",
        "    verbose=1\n",
        ")"
      ],
      "execution_count": 144,
      "outputs": [
        {
          "output_type": "stream",
          "name": "stdout",
          "text": [
            "Epoch 1/10\n",
            "35/35 [==============================] - 7s 166ms/step - loss: 0.6705 - accuracy: 0.6305 - val_loss: 0.6443 - val_accuracy: 0.6667\n",
            "Epoch 2/10\n",
            "35/35 [==============================] - 6s 158ms/step - loss: 0.6530 - accuracy: 0.6559 - val_loss: 0.6391 - val_accuracy: 0.6667\n",
            "Epoch 3/10\n",
            "35/35 [==============================] - 6s 158ms/step - loss: 0.6472 - accuracy: 0.6632 - val_loss: 0.6379 - val_accuracy: 0.6667\n",
            "Epoch 4/10\n",
            "35/35 [==============================] - 6s 157ms/step - loss: 0.6432 - accuracy: 0.6657 - val_loss: 0.6375 - val_accuracy: 0.6667\n",
            "Epoch 5/10\n",
            "35/35 [==============================] - 6s 157ms/step - loss: 0.6414 - accuracy: 0.6663 - val_loss: 0.6370 - val_accuracy: 0.6667\n",
            "Epoch 6/10\n",
            "35/35 [==============================] - 6s 158ms/step - loss: 0.6402 - accuracy: 0.6663 - val_loss: 0.6375 - val_accuracy: 0.6667\n",
            "Epoch 7/10\n",
            "35/35 [==============================] - 6s 158ms/step - loss: 0.6395 - accuracy: 0.6667 - val_loss: 0.6375 - val_accuracy: 0.6667\n",
            "Epoch 8/10\n",
            "35/35 [==============================] - 6s 157ms/step - loss: 0.6390 - accuracy: 0.6667 - val_loss: 0.6371 - val_accuracy: 0.6667\n",
            "Epoch 9/10\n",
            "35/35 [==============================] - 6s 158ms/step - loss: 0.6387 - accuracy: 0.6667 - val_loss: 0.6376 - val_accuracy: 0.6667\n",
            "Epoch 10/10\n",
            "35/35 [==============================] - 6s 158ms/step - loss: 0.6385 - accuracy: 0.6667 - val_loss: 0.6378 - val_accuracy: 0.6667\n"
          ]
        }
      ]
    },
    {
      "cell_type": "code",
      "metadata": {
        "colab": {
          "base_uri": "https://localhost:8080/",
          "height": 308
        },
        "id": "zfpB7fJ7Yq1p",
        "outputId": "9a2a7d10-51a7-407c-c43a-ea45e7f8e984"
      },
      "source": [
        "f, (ax1, ax2) = plt.subplots(1, 2, figsize=(12, 4))\n",
        "t = f.suptitle('VGG-16 with Augmentation Performance', fontsize=12)\n",
        "f.subplots_adjust(top=0.85, wspace=0.3)\n",
        "\n",
        "epoch_list = list(range(1,11))\n",
        "ax1.plot(epoch_list, history.history['accuracy'], label='Train Accuracy')\n",
        "ax1.plot(epoch_list, history.history['val_accuracy'], label='Validation Accuracy')\n",
        "ax1.set_xticks(np.arange(0, 11, 1))\n",
        "ax1.set_ylabel('Accuracy Value')\n",
        "ax1.set_xlabel('Epoch')\n",
        "ax1.set_title('Accuracy')\n",
        "l1 = ax1.legend(loc=\"best\")\n",
        "\n",
        "ax2.plot(epoch_list, history.history['loss'], label='Train Loss')\n",
        "ax2.plot(epoch_list, history.history['val_loss'], label='Validation Loss')\n",
        "ax2.set_xticks(np.arange(0, 11, 1))\n",
        "ax2.set_ylabel('Loss Value')\n",
        "ax2.set_xlabel('Epoch')\n",
        "ax2.set_title('Loss')\n",
        "l2 = ax2.legend(loc=\"best\")"
      ],
      "execution_count": 146,
      "outputs": [
        {
          "output_type": "display_data",
          "data": {
            "image/png": "[encoded data removed]",
            "text/plain": [
              "<Figure size 864x288 with 2 Axes>"
            ]
          },
          "metadata": {
            "needs_background": "light"
          }
        }
      ]
    },
    {
      "cell_type": "code",
      "metadata": {
        "colab": {
          "base_uri": "https://localhost:8080/"
        },
        "id": "9v6gvhlXZhVh",
        "outputId": "c8d61a31-3329-4533-d748-db6657c8242c"
      },
      "source": [
        "model.save('tlearn_img_aug_cnn.')"
      ],
      "execution_count": 147,
      "outputs": [
        {
          "output_type": "stream",
          "name": "stdout",
          "text": [
            "INFO:tensorflow:Assets written to: tlearn_img_aug_cnn./assets\n"
          ]
        }
      ]
    },
    {
      "cell_type": "markdown",
      "metadata": {
        "id": "tEjCfTRbaATt"
      },
      "source": [
        "## VGG-16 with Fine-tuning & Augmentation"
      ]
    },
    {
      "cell_type": "code",
      "metadata": {
        "id": "YmIPbCZFZ9Kj"
      },
      "source": [
        "vgg_model.trainable = True\n",
        "\n",
        "set_trainable = False\n",
        "for layer in vgg_model.layers:\n",
        "    if layer.name in ['block5_conv1', 'block4_conv1']:\n",
        "        set_trainable = True\n",
        "    if set_trainable:\n",
        "        layer.trainable = True\n",
        "    else:\n",
        "        layer.trainable = False"
      ],
      "execution_count": 148,
      "outputs": []
    },
    {
      "cell_type": "code",
      "metadata": {
        "colab": {
          "base_uri": "https://localhost:8080/",
          "height": 677
        },
        "id": "CIJ-q79RaHUK",
        "outputId": "885750da-52f7-4131-d989-e3b44ef1c025"
      },
      "source": [
        "layers = [(layer, layer.name, layer.trainable) for layer in vgg_model.layers]\n",
        "pd.DataFrame(layers, columns=['Layer Type', 'Layer Name', 'Layer Trainable'])"
      ],
      "execution_count": 149,
      "outputs": [
        {
          "output_type": "execute_result",
          "data": {
            "text/html": [
              "<div>\n",
              "<style scoped>\n",
              "    .dataframe tbody tr th:only-of-type {\n",
              "        vertical-align: middle;\n",
              "    }\n",
              "\n",
              "    .dataframe tbody tr th {\n",
              "        vertical-align: top;\n",
              "    }\n",
              "\n",
              "    .dataframe thead th {\n",
              "        text-align: right;\n",
              "    }\n",
              "</style>\n",
              "<table border=\"1\" class=\"dataframe\">\n",
              "  <thead>\n",
              "    <tr style=\"text-align: right;\">\n",
              "      <th></th>\n",
              "      <th>Layer Type</th>\n",
              "      <th>Layer Name</th>\n",
              "      <th>Layer Trainable</th>\n",
              "    </tr>\n",
              "  </thead>\n",
              "  <tbody>\n",
              "    <tr>\n",
              "      <th>0</th>\n",
              "      <td>&lt;keras.engine.input_layer.InputLayer object at 0x7f98d04c6ed0&gt;</td>\n",
              "      <td>input_14</td>\n",
              "      <td>False</td>\n",
              "    </tr>\n",
              "    <tr>\n",
              "      <th>1</th>\n",
              "      <td>&lt;keras.layers.convolutional.Conv2D object at 0x7f98d04c6190&gt;</td>\n",
              "      <td>block1_conv1</td>\n",
              "      <td>False</td>\n",
              "    </tr>\n",
              "    <tr>\n",
              "      <th>2</th>\n",
              "      <td>&lt;keras.layers.convolutional.Conv2D object at 0x7f994cdd8750&gt;</td>\n",
              "      <td>block1_conv2</td>\n",
              "      <td>False</td>\n",
              "    </tr>\n",
              "    <tr>\n",
              "      <th>3</th>\n",
              "      <td>&lt;keras.layers.pooling.MaxPooling2D object at 0x7f98d7353f90&gt;</td>\n",
              "      <td>block1_pool</td>\n",
              "      <td>False</td>\n",
              "    </tr>\n",
              "    <tr>\n",
              "      <th>4</th>\n",
              "      <td>&lt;keras.layers.convolutional.Conv2D object at 0x7f98d050add0&gt;</td>\n",
              "      <td>block2_conv1</td>\n",
              "      <td>False</td>\n",
              "    </tr>\n",
              "    <tr>\n",
              "      <th>5</th>\n",
              "      <td>&lt;keras.layers.convolutional.Conv2D object at 0x7f994cde8a50&gt;</td>\n",
              "      <td>block2_conv2</td>\n",
              "      <td>False</td>\n",
              "    </tr>\n",
              "    <tr>\n",
              "      <th>6</th>\n",
              "      <td>&lt;keras.layers.pooling.MaxPooling2D object at 0x7f98d4bfcc50&gt;</td>\n",
              "      <td>block2_pool</td>\n",
              "      <td>False</td>\n",
              "    </tr>\n",
              "    <tr>\n",
              "      <th>7</th>\n",
              "      <td>&lt;keras.layers.convolutional.Conv2D object at 0x7f994cd2c750&gt;</td>\n",
              "      <td>block3_conv1</td>\n",
              "      <td>False</td>\n",
              "    </tr>\n",
              "    <tr>\n",
              "      <th>8</th>\n",
              "      <td>&lt;keras.layers.convolutional.Conv2D object at 0x7f98d050a590&gt;</td>\n",
              "      <td>block3_conv2</td>\n",
              "      <td>False</td>\n",
              "    </tr>\n",
              "    <tr>\n",
              "      <th>9</th>\n",
              "      <td>&lt;keras.layers.convolutional.Conv2D object at 0x7f99c5d85f90&gt;</td>\n",
              "      <td>block3_conv3</td>\n",
              "      <td>False</td>\n",
              "    </tr>\n",
              "    <tr>\n",
              "      <th>10</th>\n",
              "      <td>&lt;keras.layers.pooling.MaxPooling2D object at 0x7f98d04e99d0&gt;</td>\n",
              "      <td>block3_pool</td>\n",
              "      <td>False</td>\n",
              "    </tr>\n",
              "    <tr>\n",
              "      <th>11</th>\n",
              "      <td>&lt;keras.layers.convolutional.Conv2D object at 0x7f98d04e9ad0&gt;</td>\n",
              "      <td>block4_conv1</td>\n",
              "      <td>True</td>\n",
              "    </tr>\n",
              "    <tr>\n",
              "      <th>12</th>\n",
              "      <td>&lt;keras.layers.convolutional.Conv2D object at 0x7f98d050ac10&gt;</td>\n",
              "      <td>block4_conv2</td>\n",
              "      <td>True</td>\n",
              "    </tr>\n",
              "    <tr>\n",
              "      <th>13</th>\n",
              "      <td>&lt;keras.layers.convolutional.Conv2D object at 0x7f994d8a4f50&gt;</td>\n",
              "      <td>block4_conv3</td>\n",
              "      <td>True</td>\n",
              "    </tr>\n",
              "    <tr>\n",
              "      <th>14</th>\n",
              "      <td>&lt;keras.layers.pooling.MaxPooling2D object at 0x7f994cf0c150&gt;</td>\n",
              "      <td>block4_pool</td>\n",
              "      <td>True</td>\n",
              "    </tr>\n",
              "    <tr>\n",
              "      <th>15</th>\n",
              "      <td>&lt;keras.layers.convolutional.Conv2D object at 0x7f98d0502dd0&gt;</td>\n",
              "      <td>block5_conv1</td>\n",
              "      <td>True</td>\n",
              "    </tr>\n",
              "    <tr>\n",
              "      <th>16</th>\n",
              "      <td>&lt;keras.layers.convolutional.Conv2D object at 0x7f98d6fef150&gt;</td>\n",
              "      <td>block5_conv2</td>\n",
              "      <td>True</td>\n",
              "    </tr>\n",
              "    <tr>\n",
              "      <th>17</th>\n",
              "      <td>&lt;keras.layers.convolutional.Conv2D object at 0x7f98d0503850&gt;</td>\n",
              "      <td>block5_conv3</td>\n",
              "      <td>True</td>\n",
              "    </tr>\n",
              "    <tr>\n",
              "      <th>18</th>\n",
              "      <td>&lt;keras.layers.pooling.MaxPooling2D object at 0x7f98d0525410&gt;</td>\n",
              "      <td>block5_pool</td>\n",
              "      <td>True</td>\n",
              "    </tr>\n",
              "    <tr>\n",
              "      <th>19</th>\n",
              "      <td>&lt;keras.layers.core.Flatten object at 0x7f98d0502450&gt;</td>\n",
              "      <td>flatten_16</td>\n",
              "      <td>True</td>\n",
              "    </tr>\n",
              "  </tbody>\n",
              "</table>\n",
              "</div>"
            ],
            "text/plain": [
              "                                                        Layer Type  ... Layer Trainable\n",
              "0   <keras.engine.input_layer.InputLayer object at 0x7f98d04c6ed0>  ...  False         \n",
              "1   <keras.layers.convolutional.Conv2D object at 0x7f98d04c6190>    ...  False         \n",
              "2   <keras.layers.convolutional.Conv2D object at 0x7f994cdd8750>    ...  False         \n",
              "3   <keras.layers.pooling.MaxPooling2D object at 0x7f98d7353f90>    ...  False         \n",
              "4   <keras.layers.convolutional.Conv2D object at 0x7f98d050add0>    ...  False         \n",
              "5   <keras.layers.convolutional.Conv2D object at 0x7f994cde8a50>    ...  False         \n",
              "6   <keras.layers.pooling.MaxPooling2D object at 0x7f98d4bfcc50>    ...  False         \n",
              "7   <keras.layers.convolutional.Conv2D object at 0x7f994cd2c750>    ...  False         \n",
              "8   <keras.layers.convolutional.Conv2D object at 0x7f98d050a590>    ...  False         \n",
              "9   <keras.layers.convolutional.Conv2D object at 0x7f99c5d85f90>    ...  False         \n",
              "10  <keras.layers.pooling.MaxPooling2D object at 0x7f98d04e99d0>    ...  False         \n",
              "11  <keras.layers.convolutional.Conv2D object at 0x7f98d04e9ad0>    ...  True          \n",
              "12  <keras.layers.convolutional.Conv2D object at 0x7f98d050ac10>    ...  True          \n",
              "13  <keras.layers.convolutional.Conv2D object at 0x7f994d8a4f50>    ...  True          \n",
              "14  <keras.layers.pooling.MaxPooling2D object at 0x7f994cf0c150>    ...  True          \n",
              "15  <keras.layers.convolutional.Conv2D object at 0x7f98d0502dd0>    ...  True          \n",
              "16  <keras.layers.convolutional.Conv2D object at 0x7f98d6fef150>    ...  True          \n",
              "17  <keras.layers.convolutional.Conv2D object at 0x7f98d0503850>    ...  True          \n",
              "18  <keras.layers.pooling.MaxPooling2D object at 0x7f98d0525410>    ...  True          \n",
              "19  <keras.layers.core.Flatten object at 0x7f98d0502450>            ...  True          \n",
              "\n",
              "[20 rows x 3 columns]"
            ]
          },
          "metadata": {},
          "execution_count": 149
        }
      ]
    },
    {
      "cell_type": "code",
      "metadata": {
        "id": "9JX5XKgZaJOW"
      },
      "source": [
        "model = Sequential()\n",
        "model.add(vgg_model)\n",
        "model.add(Dense(512, activation='relu', input_dim=input_shape))\n",
        "model.add(Dropout(0.3))\n",
        "model.add(Dense(512, activation='relu'))\n",
        "model.add(Dropout(0.3))\n",
        "model.add(Dense(1, activation='sigmoid'))\n",
        "\n",
        "model.compile(loss='binary_crossentropy',\n",
        "              optimizer=RMSprop(learning_rate=1e-5),\n",
        "              metrics=['accuracy'])"
      ],
      "execution_count": 152,
      "outputs": []
    },
    {
      "cell_type": "code",
      "metadata": {
        "colab": {
          "base_uri": "https://localhost:8080/"
        },
        "id": "XmGg3fzqaOxk",
        "outputId": "9242e116-9348-4735-ea7b-25720d0a86b1"
      },
      "source": [
        "history = model.fit(\n",
        "    train_gen, \n",
        "    validation_data=val_gen,\n",
        "    batch_size=batch_size,\n",
        "    epochs=10,\n",
        "    verbose=1\n",
        ")"
      ],
      "execution_count": 153,
      "outputs": [
        {
          "output_type": "stream",
          "name": "stdout",
          "text": [
            "Epoch 1/10\n",
            "35/35 [==============================] - 10s 245ms/step - loss: 0.6436 - accuracy: 0.6581 - val_loss: 0.6367 - val_accuracy: 0.6667\n",
            "Epoch 2/10\n",
            "35/35 [==============================] - 8s 235ms/step - loss: 0.6388 - accuracy: 0.6667 - val_loss: 0.6366 - val_accuracy: 0.6667\n",
            "Epoch 3/10\n",
            "35/35 [==============================] - 8s 234ms/step - loss: 0.6382 - accuracy: 0.6667 - val_loss: 0.6365 - val_accuracy: 0.6667\n",
            "Epoch 4/10\n",
            "35/35 [==============================] - 8s 235ms/step - loss: 0.6379 - accuracy: 0.6667 - val_loss: 0.6368 - val_accuracy: 0.6667\n",
            "Epoch 5/10\n",
            "35/35 [==============================] - 8s 236ms/step - loss: 0.6379 - accuracy: 0.6667 - val_loss: 0.6366 - val_accuracy: 0.6667\n",
            "Epoch 6/10\n",
            "35/35 [==============================] - 8s 235ms/step - loss: 0.6379 - accuracy: 0.6667 - val_loss: 0.6369 - val_accuracy: 0.6667\n",
            "Epoch 7/10\n",
            "35/35 [==============================] - 8s 236ms/step - loss: 0.6376 - accuracy: 0.6667 - val_loss: 0.6367 - val_accuracy: 0.6667\n",
            "Epoch 8/10\n",
            "35/35 [==============================] - 8s 235ms/step - loss: 0.6377 - accuracy: 0.6667 - val_loss: 0.6367 - val_accuracy: 0.6667\n",
            "Epoch 9/10\n",
            "35/35 [==============================] - 8s 235ms/step - loss: 0.6375 - accuracy: 0.6667 - val_loss: 0.6366 - val_accuracy: 0.6667\n",
            "Epoch 10/10\n",
            "35/35 [==============================] - 8s 236ms/step - loss: 0.6376 - accuracy: 0.6667 - val_loss: 0.6365 - val_accuracy: 0.6667\n"
          ]
        }
      ]
    },
    {
      "cell_type": "code",
      "metadata": {
        "colab": {
          "base_uri": "https://localhost:8080/",
          "height": 308
        },
        "id": "nuQSoivAaSWG",
        "outputId": "03217748-87a5-4b77-eeb8-3e80f3b30333"
      },
      "source": [
        "f, (ax1, ax2) = plt.subplots(1, 2, figsize=(12, 4))\n",
        "t = f.suptitle('VGG-16 with Fine-tuning & Augmentation Performance', fontsize=12)\n",
        "f.subplots_adjust(top=0.85, wspace=0.3)\n",
        "\n",
        "epoch_list = list(range(1,11))\n",
        "ax1.plot(epoch_list, history.history['accuracy'], label='Train Accuracy')\n",
        "ax1.plot(epoch_list, history.history['val_accuracy'], label='Validation Accuracy')\n",
        "ax1.set_xticks(np.arange(0, 11, 1))\n",
        "ax1.set_ylabel('Accuracy Value')\n",
        "ax1.set_xlabel('Epoch')\n",
        "ax1.set_title('Accuracy')\n",
        "l1 = ax1.legend(loc=\"best\")\n",
        "\n",
        "ax2.plot(epoch_list, history.history['loss'], label='Train Loss')\n",
        "ax2.plot(epoch_list, history.history['val_loss'], label='Validation Loss')\n",
        "ax2.set_xticks(np.arange(0, 11, 1))\n",
        "ax2.set_ylabel('Loss Value')\n",
        "ax2.set_xlabel('Epoch')\n",
        "ax2.set_title('Loss')\n",
        "l2 = ax2.legend(loc=\"best\")"
      ],
      "execution_count": 154,
      "outputs": [
        {
          "output_type": "display_data",
          "data": {
            "image/png": "[encoded data removed]",
            "text/plain": [
              "<Figure size 864x288 with 2 Axes>"
            ]
          },
          "metadata": {
            "needs_background": "light"
          }
        }
      ]
    }
  ]
}